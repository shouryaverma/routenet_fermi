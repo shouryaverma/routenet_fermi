{
 "cells": [
  {
   "cell_type": "code",
   "execution_count": null,
   "metadata": {},
   "outputs": [
    {
     "name": "stderr",
     "output_type": "stream",
     "text": [
      "2024-11-28 01:23:55.849335: I tensorflow/core/platform/cpu_feature_guard.cc:142] This TensorFlow binary is optimized with oneAPI Deep Neural Network Library (oneDNN) to use the following CPU instructions in performance-critical operations:  SSE4.1 SSE4.2 AVX AVX2 FMA\n",
      "To enable them in other operations, rebuild TensorFlow with the appropriate compiler flags.\n",
      "2024-11-28 01:23:55.851203: I tensorflow/core/common_runtime/process_util.cc:146] Creating new thread pool with default inter op setting: 2. Tune using inter_op_parallelism_threads for best performance.\n",
      "2024-11-28 01:23:55.872495: I tensorflow/compiler/mlir/mlir_graph_optimization_pass.cc:185] None of the MLIR Optimization Passes are enabled (registered 2)\n"
     ]
    },
    {
     "name": "stdout",
     "output_type": "stream",
     "text": [
      "\n",
      "Metrics for N = 16:\n",
      "MAPE: 0.43%\n",
      "MSE: 0.000000\n",
      "MAE: 0.000003\n",
      "R²: 0.999046\n",
      "W₁: 0.000002\n",
      "\n",
      "Metrics for N = 64:\n",
      "MAPE: 0.50%\n",
      "MSE: 0.000000\n",
      "MAE: 0.000004\n",
      "R²: 0.998695\n",
      "W₁: 0.000002\n",
      "\n",
      "Metrics for N = 128:\n",
      "MAPE: 0.45%\n",
      "MSE: 0.000000\n",
      "MAE: 0.000004\n",
      "R²: 0.998702\n",
      "W₁: 0.000001\n"
     ]
    }
   ],
   "source": [
    "import numpy as np\n",
    "from sklearn.metrics import mean_squared_error, mean_absolute_error, r2_score\n",
    "from scipy.stats import wasserstein_distance\n",
    "from data_generator import input_fn\n",
    "\n",
    "def calculate_metrics(y_true, y_pred):\n",
    "    \"\"\"\n",
    "    Calculate MAPE, MSE, MAE, R2, and Wasserstein-1 distance\n",
    "    \n",
    "    Args:\n",
    "        y_true: Array of true values\n",
    "        y_pred: Array of predicted values\n",
    "    \"\"\"\n",
    "    # Handle potential division by zero in MAPE\n",
    "    mask = y_true != 0\n",
    "    mape = np.mean(np.abs((y_true[mask] - y_pred[mask]) / y_true[mask])) * 100\n",
    "    \n",
    "    mse = mean_squared_error(y_true, y_pred)\n",
    "    mae = mean_absolute_error(y_true, y_pred)\n",
    "    r2 = r2_score(y_true, y_pred)\n",
    "    w1 = wasserstein_distance(y_true.flatten(), y_pred.flatten())\n",
    "    \n",
    "    return {\n",
    "        'MAPE': mape,\n",
    "        'R2': r2,\n",
    "    }\n",
    "\n",
    "# For each N value, load predictions and compute metrics\n",
    "for N in [16, 64, 128]:\n",
    "    # Load predictions\n",
    "    predictions = np.load(f'/home/verma198/Public/RouteNet-Fermi/fat_tree/predictions_delay_{N}_GRU.npy')\n",
    "    \n",
    "    # Load original values from test dataset\n",
    "    test_path = f'/home/verma198/Public/RouteNet-Fermi/data/fat{N}/test'\n",
    "    ds_test = input_fn(test_path, shuffle=False)\n",
    "    \n",
    "    # Extract true values from the dataset\n",
    "    true_values = []\n",
    "    for data in ds_test:\n",
    "        true_values.extend(data[1].numpy())  # Assuming data[1] contains the target values\n",
    "    true_values = np.array(true_values)\n",
    "    \n",
    "    # Calculate metrics\n",
    "    metrics = calculate_metrics(true_values, predictions)\n",
    "    \n",
    "    # Print results\n",
    "    print(f\"\\nMetrics for N = {N}:\")\n",
    "    print(f\"MAPE: {metrics['MAPE']:.2f}%\")\n",
    "    print(f\"R²: {metrics['R2']:.6f}\")"
   ]
  },
  {
   "cell_type": "code",
   "execution_count": 3,
   "metadata": {},
   "outputs": [
    {
     "name": "stdout",
     "output_type": "stream",
     "text": [
      "\n",
      "Metrics for N = 16:\n",
      "MAPE: 0.69%\n",
      "R²: 0.996690\n",
      "\n",
      "Metrics for N = 64:\n",
      "MAPE: 0.73%\n",
      "R²: 0.995651\n",
      "\n",
      "Metrics for N = 128:\n",
      "MAPE: 16.53%\n",
      "R²: 0.148382\n"
     ]
    }
   ],
   "source": [
    "# For each N value, load predictions and compute metrics\n",
    "for N in [16, 64, 128]:\n",
    "    # Load predictions\n",
    "    predictions = np.load(f'/home/verma198/Public/RouteNet-Fermi/fat_tree/predictions_delay_{N}_RNN.npy')\n",
    "    \n",
    "    # Load original values from test dataset\n",
    "    test_path = f'/home/verma198/Public/RouteNet-Fermi/data/fat{N}/test'\n",
    "    ds_test = input_fn(test_path, shuffle=False)\n",
    "    \n",
    "    # Extract true values from the dataset\n",
    "    true_values = []\n",
    "    for data in ds_test:\n",
    "        true_values.extend(data[1].numpy())  # Assuming data[1] contains the target values\n",
    "    true_values = np.array(true_values)\n",
    "    \n",
    "    # Calculate metrics\n",
    "    metrics = calculate_metrics(true_values, predictions)\n",
    "    \n",
    "    # Print results\n",
    "    print(f\"\\nMetrics for N = {N}:\")\n",
    "    print(f\"MAPE: {metrics['MAPE']:.2f}%\")\n",
    "    print(f\"R²: {metrics['R2']:.6f}\")"
   ]
  },
  {
   "cell_type": "code",
   "execution_count": 4,
   "metadata": {},
   "outputs": [
    {
     "name": "stdout",
     "output_type": "stream",
     "text": [
      "\n",
      "Metrics for N = 16:\n",
      "MAPE: 0.33%\n",
      "R²: 0.999571\n",
      "\n",
      "Metrics for N = 64:\n",
      "MAPE: 0.50%\n",
      "R²: 0.998847\n",
      "\n",
      "Metrics for N = 128:\n",
      "MAPE: 0.58%\n",
      "R²: 0.998287\n"
     ]
    }
   ],
   "source": [
    "# For each N value, load predictions and compute metrics\n",
    "for N in [16, 64, 128]:\n",
    "    # Load predictions\n",
    "    predictions = np.load(f'/home/verma198/Public/RouteNet-Fermi/fat_tree/predictions_delay_{N}_LSTM.npy')\n",
    "    \n",
    "    # Load original values from test dataset\n",
    "    test_path = f'/home/verma198/Public/RouteNet-Fermi/data/fat{N}/test'\n",
    "    ds_test = input_fn(test_path, shuffle=False)\n",
    "    \n",
    "    # Extract true values from the dataset\n",
    "    true_values = []\n",
    "    for data in ds_test:\n",
    "        true_values.extend(data[1].numpy())  # Assuming data[1] contains the target values\n",
    "    true_values = np.array(true_values)\n",
    "    \n",
    "    # Calculate metrics\n",
    "    metrics = calculate_metrics(true_values, predictions)\n",
    "    \n",
    "    # Print results\n",
    "    print(f\"\\nMetrics for N = {N}:\")\n",
    "    print(f\"MAPE: {metrics['MAPE']:.2f}%\")\n",
    "    print(f\"R²: {metrics['R2']:.6f}\")"
   ]
  },
  {
   "cell_type": "code",
   "execution_count": null,
   "metadata": {},
   "outputs": [],
   "source": []
  }
 ],
 "metadata": {
  "kernelspec": {
   "display_name": "route",
   "language": "python",
   "name": "python3"
  },
  "language_info": {
   "codemirror_mode": {
    "name": "ipython",
    "version": 3
   },
   "file_extension": ".py",
   "mimetype": "text/x-python",
   "name": "python",
   "nbconvert_exporter": "python",
   "pygments_lexer": "ipython3",
   "version": "3.7.16"
  }
 },
 "nbformat": 4,
 "nbformat_minor": 2
}
